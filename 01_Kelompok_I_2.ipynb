{
  "nbformat": 4,
  "nbformat_minor": 0,
  "metadata": {
    "colab": {
      "provenance": []
    },
    "kernelspec": {
      "name": "python3",
      "display_name": "Python 3"
    },
    "language_info": {
      "name": "python"
    }
  },
  "cells": [
    {
      "cell_type": "markdown",
      "source": [
        "Paper Money: <br>\n",
        "1. Rp 100,000    \n",
        "2. Rp 50,000   \n",
        "3. Rp 20,000   \n",
        "4. Rp 10,000   \n",
        "5. Rp 5,000   \n",
        "6. Rp 2,000\n",
        "<br>\n",
        "<br>\n",
        "Coins: <br>\n",
        "1. Rp 1,000  \n",
        "2. Rp 500  \n",
        "3. Rp 200\n",
        "4. Rp 100  \n",
        "*To make it easier, we assume that all Rp. 1000 denominations are coins.\n",
        "\n",
        "There are circumstances where the bank must liquidate all customer savings in the form of money, if the customer requests it.\n",
        "And imagine this is happening right now in front of you, help the bank to calculate how many denominations of money are needed.\n",
        "\n",
        "Here is the rule:\n",
        "\n",
        "1. Bank must prioritize the largest denominations first to be issued.\n",
        "2. If there is a balance that cannot be cashed, the bank must inform it.\n",
        "3. Bank must calculate how many number of Paper Money needed and Coins needed.\n",
        "4. Banks can only disburse a maximum amount of 1 billion Rupiah\n",
        "\n",
        "\n",
        "\n",
        "Make a python code that receives an integer number of customer savings from 0 - 1 Billions.\n"
      ],
      "metadata": {
        "id": "v4yL2-lQ9B_E"
      }
    },
    {
      "cell_type": "code",
      "execution_count": null,
      "metadata": {
        "id": "BadZYYvyin7Y",
        "colab": {
          "base_uri": "https://localhost:8080/"
        },
        "outputId": "01449758-0262-42c7-9fa4-1240d3c62072"
      },
      "outputs": [
        {
          "output_type": "stream",
          "name": "stdout",
          "text": [
            "Enter an integer: 9888899\n",
            "You entered: 9888899\n"
          ]
        }
      ],
      "source": [
        "#Create command to get input from user, the input should be integer\n",
        "\n",
        "num = int(input(\"Enter an integer: \"))\n",
        "print(\"You entered:\", num)"
      ]
    },
    {
      "cell_type": "code",
      "source": [
        "#Create the code here\n",
        "def tukar(uang):\n",
        "    paper_money = [100000, 50000, 20000, 10000, 5000, 2000]\n",
        "    coins = [1000, 500, 200, 100]\n",
        "    hasil_paper = {}\n",
        "    hasil_coin = {}\n",
        "\n",
        "    for i in paper_money:\n",
        "        if uang >= i:\n",
        "            hasil_paper[i] = uang // i\n",
        "            uang %= i\n",
        "\n",
        "    for i in coins:\n",
        "        if uang >= i:\n",
        "            hasil_coin[i] = uang // i\n",
        "            uang %= i\n",
        "\n",
        "    uang_sisa = uang\n",
        "\n",
        "    return hasil_paper, hasil_coin, uang_sisa\n",
        "\n",
        "hasil_paper, hasil_coin, uang_sisa = tukar(num)\n",
        "\n",
        "if num > 1000000000:\n",
        "    print('Maximun Saving is 1000000000')\n",
        "else:\n",
        "    for paper,items in hasil_paper.items():\n",
        "        print('Amount of currency Rp{} : {}'.format(paper, items))\n",
        "    for coin,items in hasil_coin.items():\n",
        "        print('Amount of currency Rp{} : {}'.format(coin, items))\n",
        "    print('------------------------------------')\n",
        "    total_paper = sum(hasil_paper.values())\n",
        "    print('Total Paper Money : ', total_paper)\n",
        "    total_coins = sum(hasil_coin.values())\n",
        "    print('Total Paper Money : ', total_coins)\n",
        "    print('------------------------------------')\n",
        "    print('Cannot be cashed :', uang_sisa)\n"
      ],
      "metadata": {
        "colab": {
          "base_uri": "https://localhost:8080/"
        },
        "id": "jC9mLViZi169",
        "outputId": "9d0d93fb-3705-43a8-da9f-581f92f46818"
      },
      "execution_count": null,
      "outputs": [
        {
          "output_type": "stream",
          "name": "stdout",
          "text": [
            "Amount of currency Rp100000 : 98\n",
            "Amount of currency Rp50000 : 1\n",
            "Amount of currency Rp20000 : 1\n",
            "Amount of currency Rp10000 : 1\n",
            "Amount of currency Rp5000 : 1\n",
            "Amount of currency Rp2000 : 1\n",
            "Amount of currency Rp1000 : 1\n",
            "Amount of currency Rp500 : 1\n",
            "Amount of currency Rp200 : 1\n",
            "Amount of currency Rp100 : 1\n",
            "------------------------------------\n",
            "Total Paper Money :  103\n",
            "Total Paper Money :  4\n",
            "------------------------------------\n",
            "Cannot be cashed : 99\n"
          ]
        }
      ]
    },
    {
      "cell_type": "code",
      "source": [],
      "metadata": {
        "id": "d-jU7PP5jIVV"
      },
      "execution_count": null,
      "outputs": []
    }
  ]
}